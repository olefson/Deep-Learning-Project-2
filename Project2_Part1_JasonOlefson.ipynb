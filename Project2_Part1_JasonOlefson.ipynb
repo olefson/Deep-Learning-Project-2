{
 "cells": [
  {
   "cell_type": "markdown",
   "metadata": {},
   "source": [
    "<h1>Jason Olefson Project 2 Part 1 Deep Learning</h1>"
   ]
  },
  {
   "cell_type": "markdown",
   "metadata": {},
   "source": [
    "<h1>Imports</h1>"
   ]
  },
  {
   "cell_type": "code",
   "execution_count": 1,
   "metadata": {},
   "outputs": [],
   "source": [
    "import os\n",
    "import pandas as pd\n",
    "import tensorflow as tf\n",
    "from tensorflow.keras.models import Sequential\n",
    "from tensorflow.keras.layers import GRU, Dense, Dropout\n",
    "from sklearn.preprocessing import StandardScaler\n",
    "from sklearn.model_selection import train_test_split\n",
    "from sklearn.utils import shuffle\n",
    "import matplotlib.pyplot as plt\n",
    "import numpy as np"
   ]
  },
  {
   "cell_type": "markdown",
   "metadata": {},
   "source": [
    "<h1>GPU Check</h1>\n",
    "<h3>IMPORTANT In this project, I used my GPU (NVIDIA RTX 4080) to train my model. Because of this, you may need to configure the first few blocks on this file to run on your device. Thank you.</h3>"
   ]
  },
  {
   "cell_type": "code",
   "execution_count": 2,
   "metadata": {},
   "outputs": [
    {
     "name": "stdout",
     "output_type": "stream",
     "text": [
      "[name: \"/device:CPU:0\"\n",
      "device_type: \"CPU\"\n",
      "memory_limit: 268435456\n",
      "locality {\n",
      "}\n",
      "incarnation: 17945631789764304926\n",
      "xla_global_id: -1\n",
      ", name: \"/device:GPU:0\"\n",
      "device_type: \"GPU\"\n",
      "memory_limit: 14048821248\n",
      "locality {\n",
      "  bus_id: 1\n",
      "  links {\n",
      "  }\n",
      "}\n",
      "incarnation: 14741746757010475823\n",
      "physical_device_desc: \"device: 0, name: NVIDIA GeForce RTX 4080, pci bus id: 0000:01:00.0, compute capability: 8.9\"\n",
      "xla_global_id: 416903419\n",
      "]\n"
     ]
    }
   ],
   "source": [
    "# Check for GPU availability\n",
    "# print(\"Num GPUs Available: \", len(tf.config.list_physical_devices('GPU')))\n",
    "\n",
    "# # Check if TensorFlow is using GPU for cuDNN-enabled operations\n",
    "# print(\"Is TensorFlow using GPU?: \", tf.test.is_built_with_cuda())\n",
    "\n",
    "from tensorflow.python.client import device_lib\n",
    "print(device_lib.list_local_devices())"
   ]
  },
  {
   "cell_type": "code",
   "execution_count": 3,
   "metadata": {},
   "outputs": [
    {
     "name": "stdout",
     "output_type": "stream",
     "text": [
      "GPU is available and being used.\n"
     ]
    }
   ],
   "source": [
    "if tf.config.list_physical_devices('GPU'):\n",
    "    print(\"GPU is available and being used.\")\n",
    "else:\n",
    "    print(\"No GPU detected, using CPU.\")"
   ]
  },
  {
   "cell_type": "markdown",
   "metadata": {},
   "source": [
    "<h1>Data Prep</h1>"
   ]
  },
  {
   "cell_type": "code",
   "execution_count": 4,
   "metadata": {},
   "outputs": [
    {
     "data": {
      "text/html": [
       "<div>\n",
       "<style scoped>\n",
       "    .dataframe tbody tr th:only-of-type {\n",
       "        vertical-align: middle;\n",
       "    }\n",
       "\n",
       "    .dataframe tbody tr th {\n",
       "        vertical-align: top;\n",
       "    }\n",
       "\n",
       "    .dataframe thead th {\n",
       "        text-align: right;\n",
       "    }\n",
       "</style>\n",
       "<table border=\"1\" class=\"dataframe\">\n",
       "  <thead>\n",
       "    <tr style=\"text-align: right;\">\n",
       "      <th></th>\n",
       "      <th>Baby_ID</th>\n",
       "      <th>Heart_Rate</th>\n",
       "      <th>Respiratory_Rate</th>\n",
       "      <th>Oxygen_Saturation</th>\n",
       "      <th>Pain_Level</th>\n",
       "    </tr>\n",
       "  </thead>\n",
       "  <tbody>\n",
       "    <tr>\n",
       "      <th>0</th>\n",
       "      <td>0</td>\n",
       "      <td>142</td>\n",
       "      <td>60</td>\n",
       "      <td>100.0</td>\n",
       "      <td>0</td>\n",
       "    </tr>\n",
       "    <tr>\n",
       "      <th>1</th>\n",
       "      <td>1</td>\n",
       "      <td>142</td>\n",
       "      <td>60</td>\n",
       "      <td>100.0</td>\n",
       "      <td>0</td>\n",
       "    </tr>\n",
       "    <tr>\n",
       "      <th>2</th>\n",
       "      <td>2</td>\n",
       "      <td>142</td>\n",
       "      <td>60</td>\n",
       "      <td>100.0</td>\n",
       "      <td>0</td>\n",
       "    </tr>\n",
       "    <tr>\n",
       "      <th>3</th>\n",
       "      <td>3</td>\n",
       "      <td>142</td>\n",
       "      <td>59</td>\n",
       "      <td>100.0</td>\n",
       "      <td>0</td>\n",
       "    </tr>\n",
       "    <tr>\n",
       "      <th>4</th>\n",
       "      <td>4</td>\n",
       "      <td>143</td>\n",
       "      <td>59</td>\n",
       "      <td>100.0</td>\n",
       "      <td>0</td>\n",
       "    </tr>\n",
       "  </tbody>\n",
       "</table>\n",
       "</div>"
      ],
      "text/plain": [
       "   Baby_ID  Heart_Rate  Respiratory_Rate  Oxygen_Saturation Pain_Level\n",
       "0        0         142                60              100.0          0\n",
       "1        1         142                60              100.0          0\n",
       "2        2         142                60              100.0          0\n",
       "3        3         142                59              100.0          0\n",
       "4        4         143                59              100.0          0"
      ]
     },
     "execution_count": 4,
     "metadata": {},
     "output_type": "execute_result"
    }
   ],
   "source": [
    "# Define data directory path\n",
    "data_dir = \"./Data/\"\n",
    "\n",
    "data_frames = [] # empty list to hold DataFrames\n",
    "\n",
    "# Combine data into single DataFrame\n",
    "# loop over each subfolder\n",
    "for subfolder in os.listdir(data_dir):\n",
    "    subfolder_path = os.path.join(data_dir, subfolder)\n",
    "    # check if directory\n",
    "    if os.path.isdir(subfolder_path):\n",
    "        # loop over all csv\n",
    "        for file in os.listdir(subfolder_path):\n",
    "            if file.endswith(\".csv\"):\n",
    "                file_path = os.path.join(subfolder_path, file)\n",
    "                df = pd.read_csv(file_path, header=None) #read csv\n",
    "                data_frames.append(df) # add Datafram to list\n",
    "combined_data = pd.concat(data_frames, ignore_index=True) #combine into single DataFrame\n",
    "combined_data.columns = [\"Baby_ID\", \"Heart_Rate\", \"Respiratory_Rate\", \"Oxygen_Saturation\", \"Pain_Level\"] # rename columns for clarity\n",
    "combined_data = combined_data[combined_data[\"Pain_Level\"] != \"#\"] # remove rows with \"#\" in the 4th column\n",
    "# Remove the pesky typo\n",
    "combined_data[\"Heart_Rate\"] = pd.to_numeric(combined_data[\"Heart_Rate\"], errors='coerce')\n",
    "combined_data[\"Respiratory_Rate\"] = pd.to_numeric(combined_data[\"Respiratory_Rate\"], errors='coerce')\n",
    "combined_data[\"Oxygen_Saturation\"] = pd.to_numeric(combined_data[\"Oxygen_Saturation\"], errors='coerce')\n",
    "combined_data.dropna(subset=[\"Heart_Rate\", \"Respiratory_Rate\", \"Oxygen_Saturation\"], inplace=True)\n",
    "combined_data.head() # for clarity (display first few columns)"
   ]
  },
  {
   "cell_type": "markdown",
   "metadata": {},
   "source": [
    "<h1>Shuffle/Split Dataset</h1>"
   ]
  },
  {
   "cell_type": "code",
   "execution_count": 5,
   "metadata": {},
   "outputs": [],
   "source": [
    "combined_data = shuffle(combined_data, random_state=42) # shuffle dataset\n",
    "train, temp = train_test_split(combined_data, test_size=0.1, random_state=42) # split to training/temp sets (90% training, 10% temp)\n",
    "validation, test = train_test_split(temp, test_size=0.5, random_state=42) # split temp set into validation/test sets (10% of total each)\n",
    "\n",
    "# separate features/labels for each set\n",
    "X_train = train[[\"Heart_Rate\", \"Respiratory_Rate\", \"Oxygen_Saturation\"]]\n",
    "y_train = train[\"Pain_Level\"]\n",
    "X_val = validation[[\"Heart_Rate\", \"Respiratory_Rate\", \"Oxygen_Saturation\"]]\n",
    "y_val = validation[\"Pain_Level\"]\n",
    "X_test = test[[\"Heart_Rate\", \"Respiratory_Rate\", \"Oxygen_Saturation\"]]\n",
    "y_test = test[\"Pain_Level\"]"
   ]
  },
  {
   "cell_type": "markdown",
   "metadata": {},
   "source": [
    "<h1>Normalization</h1>"
   ]
  },
  {
   "cell_type": "code",
   "execution_count": 6,
   "metadata": {},
   "outputs": [
    {
     "data": {
      "text/html": [
       "<div>\n",
       "<style scoped>\n",
       "    .dataframe tbody tr th:only-of-type {\n",
       "        vertical-align: middle;\n",
       "    }\n",
       "\n",
       "    .dataframe tbody tr th {\n",
       "        vertical-align: top;\n",
       "    }\n",
       "\n",
       "    .dataframe thead th {\n",
       "        text-align: right;\n",
       "    }\n",
       "</style>\n",
       "<table border=\"1\" class=\"dataframe\">\n",
       "  <thead>\n",
       "    <tr style=\"text-align: right;\">\n",
       "      <th></th>\n",
       "      <th>Heart_Rate</th>\n",
       "      <th>Respiratory_Rate</th>\n",
       "      <th>Oxygen_Saturation</th>\n",
       "    </tr>\n",
       "  </thead>\n",
       "  <tbody>\n",
       "    <tr>\n",
       "      <th>0</th>\n",
       "      <td>-0.008015</td>\n",
       "      <td>1.379319</td>\n",
       "      <td>0.346797</td>\n",
       "    </tr>\n",
       "    <tr>\n",
       "      <th>1</th>\n",
       "      <td>0.179711</td>\n",
       "      <td>-0.030464</td>\n",
       "      <td>0.346797</td>\n",
       "    </tr>\n",
       "    <tr>\n",
       "      <th>2</th>\n",
       "      <td>0.254802</td>\n",
       "      <td>1.072845</td>\n",
       "      <td>0.272768</td>\n",
       "    </tr>\n",
       "    <tr>\n",
       "      <th>3</th>\n",
       "      <td>-0.008015</td>\n",
       "      <td>0.521190</td>\n",
       "      <td>0.346797</td>\n",
       "    </tr>\n",
       "    <tr>\n",
       "      <th>4</th>\n",
       "      <td>-0.777694</td>\n",
       "      <td>-1.440248</td>\n",
       "      <td>0.346797</td>\n",
       "    </tr>\n",
       "  </tbody>\n",
       "</table>\n",
       "</div>"
      ],
      "text/plain": [
       "   Heart_Rate  Respiratory_Rate  Oxygen_Saturation\n",
       "0   -0.008015          1.379319           0.346797\n",
       "1    0.179711         -0.030464           0.346797\n",
       "2    0.254802          1.072845           0.272768\n",
       "3   -0.008015          0.521190           0.346797\n",
       "4   -0.777694         -1.440248           0.346797"
      ]
     },
     "execution_count": 6,
     "metadata": {},
     "output_type": "execute_result"
    }
   ],
   "source": [
    "scaler = StandardScaler()\n",
    "\n",
    "# Normalization for feature columns\n",
    "X_train = scaler.fit_transform(train[[\"Heart_Rate\", \"Respiratory_Rate\", \"Oxygen_Saturation\"]])\n",
    "X_val = scaler.transform(validation[[\"Heart_Rate\", \"Respiratory_Rate\", \"Oxygen_Saturation\"]])\n",
    "X_test = scaler.transform(test[[\"Heart_Rate\", \"Respiratory_Rate\", \"Oxygen_Saturation\"]])\n",
    "# Convert normalized arrays back to DataFrames\n",
    "X_train = pd.DataFrame(X_train, columns=[\"Heart_Rate\", \"Respiratory_Rate\", \"Oxygen_Saturation\"])\n",
    "X_val = pd.DataFrame(X_val, columns=[\"Heart_Rate\", \"Respiratory_Rate\", \"Oxygen_Saturation\"])\n",
    "X_test = pd.DataFrame(X_test, columns=[\"Heart_Rate\", \"Respiratory_Rate\", \"Oxygen_Saturation\"])\n",
    "# Label extraction\n",
    "y_train = train[\"Pain_Level\"].reset_index(drop=True)\n",
    "y_val = validation[\"Pain_Level\"].reset_index(drop=True)\n",
    "y_test = test[\"Pain_Level\"].reset_index(drop=True)\n",
    "\n",
    "X_train.head() # for clarity (display first few columns)"
   ]
  },
  {
   "cell_type": "code",
   "execution_count": 7,
   "metadata": {},
   "outputs": [],
   "source": [
    "# Feature data: Convert to float32 and reshape to (samples, timesteps, features)\n",
    "X_train = X_train.values.astype('float32').reshape(-1, 3, 1)\n",
    "X_val = X_val.values.astype('float32').reshape(-1, 3, 1)\n",
    "X_test = X_test.values.astype('float32').reshape(-1, 3, 1)\n",
    "\n",
    "# Label data: Convert to int32 without reshaping further\n",
    "y_train = y_train.astype('int32')\n",
    "y_val = y_val.astype('int32')\n",
    "y_test = y_test.astype('int32')"
   ]
  },
  {
   "cell_type": "markdown",
   "metadata": {},
   "source": [
    "<h1>Build GRU Model</h1>"
   ]
  },
  {
   "cell_type": "code",
   "execution_count": 8,
   "metadata": {},
   "outputs": [
    {
     "name": "stdout",
     "output_type": "stream",
     "text": [
      "Model: \"sequential\"\n",
      "_________________________________________________________________\n",
      " Layer (type)                Output Shape              Param #   \n",
      "=================================================================\n",
      " gru (GRU)                   (None, 3, 16)             912       \n",
      "                                                                 \n",
      " dropout (Dropout)           (None, 3, 16)             0         \n",
      "                                                                 \n",
      " gru_1 (GRU)                 (None, 3, 16)             1632      \n",
      "                                                                 \n",
      " dropout_1 (Dropout)         (None, 3, 16)             0         \n",
      "                                                                 \n",
      " gru_2 (GRU)                 (None, 3, 16)             1632      \n",
      "                                                                 \n",
      " dropout_2 (Dropout)         (None, 3, 16)             0         \n",
      "                                                                 \n",
      " gru_3 (GRU)                 (None, 16)                1632      \n",
      "                                                                 \n",
      " dropout_3 (Dropout)         (None, 16)                0         \n",
      "                                                                 \n",
      " dense (Dense)               (None, 3)                 51        \n",
      "                                                                 \n",
      "=================================================================\n",
      "Total params: 5,859\n",
      "Trainable params: 5,859\n",
      "Non-trainable params: 0\n",
      "_________________________________________________________________\n"
     ]
    }
   ],
   "source": [
    "# Model Architecture\n",
    "model = Sequential([\n",
    "    GRU(16, return_sequences=True, input_shape=(X_train.shape[1], 1)),\n",
    "    Dropout(0.2),\n",
    "    GRU(16, return_sequences=True),\n",
    "    Dropout(0.2),\n",
    "    GRU(16, return_sequences=True),\n",
    "    Dropout(0.2),\n",
    "    GRU(16, return_sequences=False),\n",
    "    Dropout(0.2),\n",
    "    Dense(3, activation='softmax') # 3 unit output layer (for 3 classes) / softmax activation\n",
    "])\n",
    "\n",
    "# Compile\n",
    "model.compile(optimizer='adam', loss='sparse_categorical_crossentropy', metrics=['accuracy'])\n",
    "model.summary() # display summary"
   ]
  },
  {
   "cell_type": "markdown",
   "metadata": {},
   "source": [
    "<h1>Training</h1>"
   ]
  },
  {
   "cell_type": "code",
   "execution_count": 9,
   "metadata": {},
   "outputs": [
    {
     "name": "stdout",
     "output_type": "stream",
     "text": [
      "Epoch 1/50\n",
      "492/492 [==============================] - 7s 6ms/step - loss: 0.7952 - accuracy: 0.6257 - val_loss: 0.6798 - val_accuracy: 0.7082\n",
      "Epoch 2/50\n",
      "492/492 [==============================] - 2s 5ms/step - loss: 0.6861 - accuracy: 0.7129 - val_loss: 0.6379 - val_accuracy: 0.7380\n",
      "Epoch 3/50\n",
      "492/492 [==============================] - 3s 5ms/step - loss: 0.6652 - accuracy: 0.7186 - val_loss: 0.6279 - val_accuracy: 0.7288\n",
      "Epoch 4/50\n",
      "492/492 [==============================] - 3s 5ms/step - loss: 0.6489 - accuracy: 0.7208 - val_loss: 0.6093 - val_accuracy: 0.7449\n",
      "Epoch 5/50\n",
      "492/492 [==============================] - 3s 5ms/step - loss: 0.6371 - accuracy: 0.7287 - val_loss: 0.6123 - val_accuracy: 0.7437\n",
      "Epoch 6/50\n",
      "492/492 [==============================] - 3s 5ms/step - loss: 0.6308 - accuracy: 0.7323 - val_loss: 0.6043 - val_accuracy: 0.7494\n",
      "Epoch 7/50\n",
      "492/492 [==============================] - 3s 5ms/step - loss: 0.6280 - accuracy: 0.7313 - val_loss: 0.5909 - val_accuracy: 0.7483\n",
      "Epoch 8/50\n",
      "492/492 [==============================] - 3s 5ms/step - loss: 0.6213 - accuracy: 0.7348 - val_loss: 0.5892 - val_accuracy: 0.7460\n",
      "Epoch 9/50\n",
      "492/492 [==============================] - 3s 5ms/step - loss: 0.6160 - accuracy: 0.7356 - val_loss: 0.5871 - val_accuracy: 0.7551\n",
      "Epoch 10/50\n",
      "492/492 [==============================] - 3s 5ms/step - loss: 0.6139 - accuracy: 0.7377 - val_loss: 0.5973 - val_accuracy: 0.7368\n",
      "Epoch 11/50\n",
      "492/492 [==============================] - 3s 6ms/step - loss: 0.6164 - accuracy: 0.7357 - val_loss: 0.5815 - val_accuracy: 0.7483\n",
      "Epoch 12/50\n",
      "492/492 [==============================] - 3s 5ms/step - loss: 0.6138 - accuracy: 0.7389 - val_loss: 0.5894 - val_accuracy: 0.7357\n",
      "Epoch 13/50\n",
      "492/492 [==============================] - 3s 5ms/step - loss: 0.6105 - accuracy: 0.7389 - val_loss: 0.5921 - val_accuracy: 0.7323\n",
      "Epoch 14/50\n",
      "492/492 [==============================] - 3s 5ms/step - loss: 0.6099 - accuracy: 0.7401 - val_loss: 0.5779 - val_accuracy: 0.7563\n",
      "Epoch 15/50\n",
      "492/492 [==============================] - 3s 5ms/step - loss: 0.6095 - accuracy: 0.7406 - val_loss: 0.5803 - val_accuracy: 0.7391\n",
      "Epoch 16/50\n",
      "492/492 [==============================] - 3s 5ms/step - loss: 0.6076 - accuracy: 0.7412 - val_loss: 0.5738 - val_accuracy: 0.7506\n",
      "Epoch 17/50\n",
      "492/492 [==============================] - 3s 5ms/step - loss: 0.6059 - accuracy: 0.7409 - val_loss: 0.5827 - val_accuracy: 0.7449\n",
      "Epoch 18/50\n",
      "492/492 [==============================] - 3s 5ms/step - loss: 0.6050 - accuracy: 0.7428 - val_loss: 0.5716 - val_accuracy: 0.7460\n",
      "Epoch 19/50\n",
      "492/492 [==============================] - 3s 5ms/step - loss: 0.6030 - accuracy: 0.7421 - val_loss: 0.5751 - val_accuracy: 0.7426\n",
      "Epoch 20/50\n",
      "492/492 [==============================] - 3s 5ms/step - loss: 0.6042 - accuracy: 0.7444 - val_loss: 0.5727 - val_accuracy: 0.7460\n",
      "Epoch 21/50\n",
      "492/492 [==============================] - 3s 5ms/step - loss: 0.6023 - accuracy: 0.7447 - val_loss: 0.5698 - val_accuracy: 0.7506\n",
      "Epoch 22/50\n",
      "492/492 [==============================] - 3s 5ms/step - loss: 0.6008 - accuracy: 0.7437 - val_loss: 0.5674 - val_accuracy: 0.7506\n",
      "Epoch 23/50\n",
      "492/492 [==============================] - 3s 5ms/step - loss: 0.6010 - accuracy: 0.7439 - val_loss: 0.5733 - val_accuracy: 0.7471\n",
      "Epoch 24/50\n",
      "492/492 [==============================] - 3s 5ms/step - loss: 0.6024 - accuracy: 0.7455 - val_loss: 0.5651 - val_accuracy: 0.7551\n",
      "Epoch 25/50\n",
      "492/492 [==============================] - 3s 6ms/step - loss: 0.5983 - accuracy: 0.7476 - val_loss: 0.5702 - val_accuracy: 0.7483\n",
      "Epoch 26/50\n",
      "492/492 [==============================] - 3s 6ms/step - loss: 0.6004 - accuracy: 0.7467 - val_loss: 0.5622 - val_accuracy: 0.7540\n",
      "Epoch 27/50\n",
      "492/492 [==============================] - 3s 6ms/step - loss: 0.5973 - accuracy: 0.7484 - val_loss: 0.5634 - val_accuracy: 0.7574\n",
      "Epoch 28/50\n",
      "492/492 [==============================] - 3s 5ms/step - loss: 0.5964 - accuracy: 0.7460 - val_loss: 0.5700 - val_accuracy: 0.7517\n",
      "Epoch 29/50\n",
      "492/492 [==============================] - 3s 6ms/step - loss: 0.5999 - accuracy: 0.7472 - val_loss: 0.5629 - val_accuracy: 0.7494\n",
      "Epoch 30/50\n",
      "492/492 [==============================] - 3s 7ms/step - loss: 0.5939 - accuracy: 0.7484 - val_loss: 0.5616 - val_accuracy: 0.7540\n",
      "Epoch 31/50\n",
      "492/492 [==============================] - 3s 6ms/step - loss: 0.5947 - accuracy: 0.7484 - val_loss: 0.5602 - val_accuracy: 0.7540\n",
      "Epoch 32/50\n",
      "492/492 [==============================] - 3s 6ms/step - loss: 0.5951 - accuracy: 0.7507 - val_loss: 0.5636 - val_accuracy: 0.7494\n",
      "Epoch 33/50\n",
      "492/492 [==============================] - 3s 6ms/step - loss: 0.5938 - accuracy: 0.7488 - val_loss: 0.5617 - val_accuracy: 0.7574\n",
      "Epoch 34/50\n",
      "492/492 [==============================] - 3s 6ms/step - loss: 0.5944 - accuracy: 0.7471 - val_loss: 0.5585 - val_accuracy: 0.7574\n",
      "Epoch 35/50\n",
      "492/492 [==============================] - 3s 6ms/step - loss: 0.5940 - accuracy: 0.7481 - val_loss: 0.5604 - val_accuracy: 0.7529\n",
      "Epoch 36/50\n",
      "492/492 [==============================] - 3s 6ms/step - loss: 0.5925 - accuracy: 0.7507 - val_loss: 0.5571 - val_accuracy: 0.7574\n",
      "Epoch 37/50\n",
      "492/492 [==============================] - 3s 5ms/step - loss: 0.5927 - accuracy: 0.7486 - val_loss: 0.5576 - val_accuracy: 0.7551\n",
      "Epoch 38/50\n",
      "492/492 [==============================] - 3s 5ms/step - loss: 0.5942 - accuracy: 0.7482 - val_loss: 0.5573 - val_accuracy: 0.7529\n",
      "Epoch 39/50\n",
      "492/492 [==============================] - 3s 6ms/step - loss: 0.5931 - accuracy: 0.7503 - val_loss: 0.5612 - val_accuracy: 0.7586\n",
      "Epoch 40/50\n",
      "492/492 [==============================] - 3s 6ms/step - loss: 0.5921 - accuracy: 0.7495 - val_loss: 0.5539 - val_accuracy: 0.7597\n",
      "Epoch 41/50\n",
      "492/492 [==============================] - 3s 6ms/step - loss: 0.5897 - accuracy: 0.7495 - val_loss: 0.5580 - val_accuracy: 0.7551\n",
      "Epoch 42/50\n",
      "492/492 [==============================] - 3s 6ms/step - loss: 0.5904 - accuracy: 0.7462 - val_loss: 0.5542 - val_accuracy: 0.7563\n",
      "Epoch 43/50\n",
      "492/492 [==============================] - 3s 6ms/step - loss: 0.5906 - accuracy: 0.7517 - val_loss: 0.5528 - val_accuracy: 0.7563\n",
      "Epoch 44/50\n",
      "492/492 [==============================] - 3s 5ms/step - loss: 0.5913 - accuracy: 0.7504 - val_loss: 0.5618 - val_accuracy: 0.7540\n",
      "Epoch 45/50\n",
      "492/492 [==============================] - 3s 6ms/step - loss: 0.5896 - accuracy: 0.7491 - val_loss: 0.5587 - val_accuracy: 0.7529\n",
      "Epoch 46/50\n",
      "492/492 [==============================] - 3s 5ms/step - loss: 0.5868 - accuracy: 0.7516 - val_loss: 0.5588 - val_accuracy: 0.7551\n",
      "Epoch 47/50\n",
      "492/492 [==============================] - 3s 5ms/step - loss: 0.5877 - accuracy: 0.7509 - val_loss: 0.5545 - val_accuracy: 0.7597\n",
      "Epoch 48/50\n",
      "492/492 [==============================] - 3s 5ms/step - loss: 0.5890 - accuracy: 0.7509 - val_loss: 0.5607 - val_accuracy: 0.7563\n",
      "Epoch 49/50\n",
      "492/492 [==============================] - 3s 5ms/step - loss: 0.5885 - accuracy: 0.7525 - val_loss: 0.5547 - val_accuracy: 0.7597\n",
      "Epoch 50/50\n",
      "492/492 [==============================] - 3s 5ms/step - loss: 0.5894 - accuracy: 0.7491 - val_loss: 0.5551 - val_accuracy: 0.7551\n"
     ]
    }
   ],
   "source": [
    "# Epochs/Batch size (adjust as needed)\n",
    "epochs = 50\n",
    "batch_size = 32\n",
    "\n",
    "# Train model\n",
    "history = model.fit(\n",
    "    X_train, y_train,\n",
    "    validation_data=(X_val, y_val),\n",
    "    epochs=epochs,\n",
    "    batch_size=batch_size,\n",
    "    verbose=1\n",
    ")"
   ]
  },
  {
   "cell_type": "markdown",
   "metadata": {},
   "source": [
    "<h1>Plot Training and Valid Performance</h1>"
   ]
  },
  {
   "cell_type": "code",
   "execution_count": 10,
   "metadata": {},
   "outputs": [
    {
     "data": {
      "image/png": "[encoded data removed]",
      "text/plain": [
       "<Figure size 640x480 with 1 Axes>"
      ]
     },
     "metadata": {},
     "output_type": "display_data"
    },
    {
     "data": {
      "image/png": "[encoded data removed]",
      "text/plain": [
       "<Figure size 640x480 with 1 Axes>"
      ]
     },
     "metadata": {},
     "output_type": "display_data"
    }
   ],
   "source": [
    "# Training/Validation Accuracy\n",
    "plt.plot(history.history['accuracy'])\n",
    "plt.plot(history.history['val_accuracy'])\n",
    "plt.title('Model Accuracy')\n",
    "plt.ylabel('Accuracy')\n",
    "plt.xlabel('Epoch')\n",
    "plt.legend(['Train', 'Validation'], loc='upper left')\n",
    "plt.show()\n",
    "\n",
    "# Training/Validation Loss\n",
    "plt.plot(history.history['loss'])\n",
    "plt.plot(history.history['val_loss'])\n",
    "plt.title('Loss Over Epochs')\n",
    "plt.ylabel('Loss')\n",
    "plt.xlabel('Epoch')\n",
    "plt.legend(['Train', 'Validation'], loc='upper left')\n",
    "plt.show()"
   ]
  },
  {
   "cell_type": "markdown",
   "metadata": {},
   "source": [
    "<h1>Report</h1>"
   ]
  }
 ],
 "metadata": {
  "kernelspec": {
   "display_name": "Python 3 (ipykernel)",
   "language": "python",
   "name": "python3"
  },
  "language_info": {
   "codemirror_mode": {
    "name": "ipython",
    "version": 3
   },
   "file_extension": ".py",
   "mimetype": "text/x-python",
   "name": "python",
   "nbconvert_exporter": "python",
   "pygments_lexer": "ipython3",
   "version": "3.9.20"
  }
 },
 "nbformat": 4,
 "nbformat_minor": 4
}
