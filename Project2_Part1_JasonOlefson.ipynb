{
 "cells": [
  {
   "cell_type": "markdown",
   "metadata": {},
   "source": [
    "<h1>Jason Olefson Project 2 Part 1 Deep Learning</h1>"
   ]
  },
  {
   "cell_type": "markdown",
   "metadata": {},
   "source": [
    "<h1>Imports</h1>"
   ]
  },
  {
   "cell_type": "code",
   "execution_count": 12,
   "metadata": {},
   "outputs": [],
   "source": [
    "import os\n",
    "import pandas as pd\n",
    "import tensorflow as tf\n",
    "from tensorflow.keras.models import Sequential\n",
    "from tensorflow.keras.layers import GRU, Dense, Dropout\n",
    "from sklearn.preprocessing import StandardScaler\n",
    "from sklearn.model_selection import train_test_split\n",
    "from sklearn.utils import shuffle\n",
    "from keras.optimizers import Adam\n",
    "from keras.regularizers import l2\n",
    "from keras.models import load_model\n",
    "import matplotlib.pyplot as plt\n",
    "import numpy as np\n",
    "from keras.callbacks import ReduceLROnPlateau"
   ]
  },
  {
   "cell_type": "markdown",
   "metadata": {},
   "source": [
    "<h1>GPU Check</h1>\n",
    "<h3>IMPORTANT In this project, I used my GPU (NVIDIA RTX 4080) to train my model. Because of this, you may need to configure the first few blocks on this file to run on your device. Thank you.</h3>"
   ]
  },
  {
   "cell_type": "code",
   "execution_count": 2,
   "metadata": {},
   "outputs": [
    {
     "name": "stdout",
     "output_type": "stream",
     "text": [
      "[name: \"/device:CPU:0\"\n",
      "device_type: \"CPU\"\n",
      "memory_limit: 268435456\n",
      "locality {\n",
      "}\n",
      "incarnation: 16688224763274064232\n",
      "xla_global_id: -1\n",
      ", name: \"/device:GPU:0\"\n",
      "device_type: \"GPU\"\n",
      "memory_limit: 14048821248\n",
      "locality {\n",
      "  bus_id: 1\n",
      "  links {\n",
      "  }\n",
      "}\n",
      "incarnation: 5883819543365688590\n",
      "physical_device_desc: \"device: 0, name: NVIDIA GeForce RTX 4080, pci bus id: 0000:01:00.0, compute capability: 8.9\"\n",
      "xla_global_id: 416903419\n",
      "]\n"
     ]
    }
   ],
   "source": [
    "# Check for GPU availability\n",
    "# print(\"Num GPUs Available: \", len(tf.config.list_physical_devices('GPU')))\n",
    "\n",
    "# # Check if TensorFlow is using GPU for cuDNN-enabled operations\n",
    "# print(\"Is TensorFlow using GPU?: \", tf.test.is_built_with_cuda())\n",
    "\n",
    "from tensorflow.python.client import device_lib\n",
    "print(device_lib.list_local_devices())"
   ]
  },
  {
   "cell_type": "code",
   "execution_count": 3,
   "metadata": {
    "scrolled": true
   },
   "outputs": [
    {
     "name": "stdout",
     "output_type": "stream",
     "text": [
      "GPU is available and being used.\n"
     ]
    }
   ],
   "source": [
    "if tf.config.list_physical_devices('GPU'):\n",
    "    print(\"GPU is available and being used.\")\n",
    "else:\n",
    "    print(\"No GPU detected, using CPU.\")"
   ]
  },
  {
   "cell_type": "markdown",
   "metadata": {},
   "source": [
    "<h1>Save Model Function</h1>"
   ]
  },
  {
   "cell_type": "code",
   "execution_count": 13,
   "metadata": {},
   "outputs": [],
   "source": [
    "def save_model(model, model_dir='saved_model', model_name='project2_part1_model.h5'):\n",
    "    os.makedirs(model_dir, exist_ok=True) # create dir if no exist\n",
    "    model_path = os.path.join(model_dir, model_name)\n",
    "    model.save(model_path)\n",
    "    print(f\"Model saved to: {model_path}\")"
   ]
  },
  {
   "cell_type": "markdown",
   "metadata": {},
   "source": [
    "<h1>Data Prep</h1>"
   ]
  },
  {
   "cell_type": "code",
   "execution_count": 4,
   "metadata": {},
   "outputs": [
    {
     "data": {
      "text/html": [
       "<div>\n",
       "<style scoped>\n",
       "    .dataframe tbody tr th:only-of-type {\n",
       "        vertical-align: middle;\n",
       "    }\n",
       "\n",
       "    .dataframe tbody tr th {\n",
       "        vertical-align: top;\n",
       "    }\n",
       "\n",
       "    .dataframe thead th {\n",
       "        text-align: right;\n",
       "    }\n",
       "</style>\n",
       "<table border=\"1\" class=\"dataframe\">\n",
       "  <thead>\n",
       "    <tr style=\"text-align: right;\">\n",
       "      <th></th>\n",
       "      <th>Baby_ID</th>\n",
       "      <th>Heart_Rate</th>\n",
       "      <th>Respiratory_Rate</th>\n",
       "      <th>Oxygen_Saturation</th>\n",
       "      <th>Pain_Level</th>\n",
       "    </tr>\n",
       "  </thead>\n",
       "  <tbody>\n",
       "    <tr>\n",
       "      <th>0</th>\n",
       "      <td>0</td>\n",
       "      <td>142</td>\n",
       "      <td>60</td>\n",
       "      <td>100.0</td>\n",
       "      <td>0</td>\n",
       "    </tr>\n",
       "    <tr>\n",
       "      <th>1</th>\n",
       "      <td>1</td>\n",
       "      <td>142</td>\n",
       "      <td>60</td>\n",
       "      <td>100.0</td>\n",
       "      <td>0</td>\n",
       "    </tr>\n",
       "    <tr>\n",
       "      <th>2</th>\n",
       "      <td>2</td>\n",
       "      <td>142</td>\n",
       "      <td>60</td>\n",
       "      <td>100.0</td>\n",
       "      <td>0</td>\n",
       "    </tr>\n",
       "    <tr>\n",
       "      <th>3</th>\n",
       "      <td>3</td>\n",
       "      <td>142</td>\n",
       "      <td>59</td>\n",
       "      <td>100.0</td>\n",
       "      <td>0</td>\n",
       "    </tr>\n",
       "    <tr>\n",
       "      <th>4</th>\n",
       "      <td>4</td>\n",
       "      <td>143</td>\n",
       "      <td>59</td>\n",
       "      <td>100.0</td>\n",
       "      <td>0</td>\n",
       "    </tr>\n",
       "  </tbody>\n",
       "</table>\n",
       "</div>"
      ],
      "text/plain": [
       "   Baby_ID  Heart_Rate  Respiratory_Rate  Oxygen_Saturation Pain_Level\n",
       "0        0         142                60              100.0          0\n",
       "1        1         142                60              100.0          0\n",
       "2        2         142                60              100.0          0\n",
       "3        3         142                59              100.0          0\n",
       "4        4         143                59              100.0          0"
      ]
     },
     "execution_count": 4,
     "metadata": {},
     "output_type": "execute_result"
    }
   ],
   "source": [
    "# Define data directory path\n",
    "data_dir = \"./Data/\"\n",
    "\n",
    "data_frames = [] # empty list to hold DataFrames\n",
    "\n",
    "# Combine data into single DataFrame\n",
    "# loop over each subfolder\n",
    "for subfolder in os.listdir(data_dir):\n",
    "    subfolder_path = os.path.join(data_dir, subfolder)\n",
    "    # check if directory\n",
    "    if os.path.isdir(subfolder_path):\n",
    "        # loop over all csv\n",
    "        for file in os.listdir(subfolder_path):\n",
    "            if file.endswith(\".csv\"):\n",
    "                file_path = os.path.join(subfolder_path, file)\n",
    "                df = pd.read_csv(file_path, header=None) #read csv\n",
    "                data_frames.append(df) # add Datafram to list\n",
    "combined_data = pd.concat(data_frames, ignore_index=True) #combine into single DataFrame\n",
    "combined_data.columns = [\"Baby_ID\", \"Heart_Rate\", \"Respiratory_Rate\", \"Oxygen_Saturation\", \"Pain_Level\"] # rename columns for clarity\n",
    "combined_data = combined_data[combined_data[\"Pain_Level\"] != \"#\"] # remove rows with \"#\" in the 4th column\n",
    "# Remove the pesky typo\n",
    "combined_data[\"Heart_Rate\"] = pd.to_numeric(combined_data[\"Heart_Rate\"], errors='coerce')\n",
    "combined_data[\"Respiratory_Rate\"] = pd.to_numeric(combined_data[\"Respiratory_Rate\"], errors='coerce')\n",
    "combined_data[\"Oxygen_Saturation\"] = pd.to_numeric(combined_data[\"Oxygen_Saturation\"], errors='coerce')\n",
    "combined_data.dropna(subset=[\"Heart_Rate\", \"Respiratory_Rate\", \"Oxygen_Saturation\"], inplace=True)\n",
    "combined_data.head() # for clarity (display first few columns)"
   ]
  },
  {
   "cell_type": "markdown",
   "metadata": {},
   "source": [
    "<h1>Shuffle/Split Dataset</h1>"
   ]
  },
  {
   "cell_type": "code",
   "execution_count": 5,
   "metadata": {},
   "outputs": [],
   "source": [
    "combined_data = shuffle(combined_data, random_state=42) # shuffle dataset\n",
    "train, temp = train_test_split(combined_data, test_size=0.1, random_state=42) # split to training/temp sets (90% training, 10% temp)\n",
    "validation, test = train_test_split(temp, test_size=0.5, random_state=42) # split temp set into validation/test sets (10% of total each)\n",
    "\n",
    "# separate features/labels for each set\n",
    "X_train = train[[\"Heart_Rate\", \"Respiratory_Rate\", \"Oxygen_Saturation\"]]\n",
    "y_train = train[\"Pain_Level\"]\n",
    "X_val = validation[[\"Heart_Rate\", \"Respiratory_Rate\", \"Oxygen_Saturation\"]]\n",
    "y_val = validation[\"Pain_Level\"]\n",
    "X_test = test[[\"Heart_Rate\", \"Respiratory_Rate\", \"Oxygen_Saturation\"]]\n",
    "y_test = test[\"Pain_Level\"]"
   ]
  },
  {
   "cell_type": "markdown",
   "metadata": {},
   "source": [
    "<h1>Normalization</h1>"
   ]
  },
  {
   "cell_type": "code",
   "execution_count": 6,
   "metadata": {},
   "outputs": [
    {
     "data": {
      "text/html": [
       "<div>\n",
       "<style scoped>\n",
       "    .dataframe tbody tr th:only-of-type {\n",
       "        vertical-align: middle;\n",
       "    }\n",
       "\n",
       "    .dataframe tbody tr th {\n",
       "        vertical-align: top;\n",
       "    }\n",
       "\n",
       "    .dataframe thead th {\n",
       "        text-align: right;\n",
       "    }\n",
       "</style>\n",
       "<table border=\"1\" class=\"dataframe\">\n",
       "  <thead>\n",
       "    <tr style=\"text-align: right;\">\n",
       "      <th></th>\n",
       "      <th>Heart_Rate</th>\n",
       "      <th>Respiratory_Rate</th>\n",
       "      <th>Oxygen_Saturation</th>\n",
       "    </tr>\n",
       "  </thead>\n",
       "  <tbody>\n",
       "    <tr>\n",
       "      <th>0</th>\n",
       "      <td>-0.008015</td>\n",
       "      <td>1.379319</td>\n",
       "      <td>0.346797</td>\n",
       "    </tr>\n",
       "    <tr>\n",
       "      <th>1</th>\n",
       "      <td>0.179711</td>\n",
       "      <td>-0.030464</td>\n",
       "      <td>0.346797</td>\n",
       "    </tr>\n",
       "    <tr>\n",
       "      <th>2</th>\n",
       "      <td>0.254802</td>\n",
       "      <td>1.072845</td>\n",
       "      <td>0.272768</td>\n",
       "    </tr>\n",
       "    <tr>\n",
       "      <th>3</th>\n",
       "      <td>-0.008015</td>\n",
       "      <td>0.521190</td>\n",
       "      <td>0.346797</td>\n",
       "    </tr>\n",
       "    <tr>\n",
       "      <th>4</th>\n",
       "      <td>-0.777694</td>\n",
       "      <td>-1.440248</td>\n",
       "      <td>0.346797</td>\n",
       "    </tr>\n",
       "  </tbody>\n",
       "</table>\n",
       "</div>"
      ],
      "text/plain": [
       "   Heart_Rate  Respiratory_Rate  Oxygen_Saturation\n",
       "0   -0.008015          1.379319           0.346797\n",
       "1    0.179711         -0.030464           0.346797\n",
       "2    0.254802          1.072845           0.272768\n",
       "3   -0.008015          0.521190           0.346797\n",
       "4   -0.777694         -1.440248           0.346797"
      ]
     },
     "execution_count": 6,
     "metadata": {},
     "output_type": "execute_result"
    }
   ],
   "source": [
    "scaler = StandardScaler()\n",
    "\n",
    "# Normalization for feature columns\n",
    "X_train = scaler.fit_transform(train[[\"Heart_Rate\", \"Respiratory_Rate\", \"Oxygen_Saturation\"]])\n",
    "X_val = scaler.transform(validation[[\"Heart_Rate\", \"Respiratory_Rate\", \"Oxygen_Saturation\"]])\n",
    "X_test = scaler.transform(test[[\"Heart_Rate\", \"Respiratory_Rate\", \"Oxygen_Saturation\"]])\n",
    "# Convert normalized arrays back to DataFrames\n",
    "X_train = pd.DataFrame(X_train, columns=[\"Heart_Rate\", \"Respiratory_Rate\", \"Oxygen_Saturation\"])\n",
    "X_val = pd.DataFrame(X_val, columns=[\"Heart_Rate\", \"Respiratory_Rate\", \"Oxygen_Saturation\"])\n",
    "X_test = pd.DataFrame(X_test, columns=[\"Heart_Rate\", \"Respiratory_Rate\", \"Oxygen_Saturation\"])\n",
    "# Label extraction\n",
    "y_train = train[\"Pain_Level\"].reset_index(drop=True)\n",
    "y_val = validation[\"Pain_Level\"].reset_index(drop=True)\n",
    "y_test = test[\"Pain_Level\"].reset_index(drop=True)\n",
    "\n",
    "X_train.head() # for clarity (display first few columns)"
   ]
  },
  {
   "cell_type": "code",
   "execution_count": 7,
   "metadata": {},
   "outputs": [],
   "source": [
    "#Convert to float32/reshape to (samples, timesteps, features)\n",
    "X_train = X_train.values.astype('float32').reshape(-1, 3, 1)\n",
    "X_val = X_val.values.astype('float32').reshape(-1, 3, 1)\n",
    "X_test = X_test.values.astype('float32').reshape(-1, 3, 1)\n",
    "\n",
    "# Convert to int32\n",
    "y_train = y_train.astype('int32')\n",
    "y_val = y_val.astype('int32')\n",
    "y_test = y_test.astype('int32')"
   ]
  },
  {
   "cell_type": "markdown",
   "metadata": {},
   "source": [
    "<h1>Learning Rate Adjuster</h1>"
   ]
  },
  {
   "cell_type": "code",
   "execution_count": 8,
   "metadata": {},
   "outputs": [],
   "source": [
    "lr_adjuster = ReduceLROnPlateau(\n",
    "    monitor='val_loss',\n",
    "    factor=0.05,\n",
    "    patience=5,\n",
    "    min_lr=1e-6,\n",
    "    verbose=1\n",
    ")"
   ]
  },
  {
   "cell_type": "markdown",
   "metadata": {},
   "source": [
    "<h1>Build GRU Model</h1>"
   ]
  },
  {
   "cell_type": "code",
   "execution_count": 9,
   "metadata": {},
   "outputs": [
    {
     "name": "stdout",
     "output_type": "stream",
     "text": [
      "Model: \"sequential\"\n",
      "_________________________________________________________________\n",
      " Layer (type)                Output Shape              Param #   \n",
      "=================================================================\n",
      " gru (GRU)                   (None, 3, 16)             912       \n",
      "                                                                 \n",
      " dropout (Dropout)           (None, 3, 16)             0         \n",
      "                                                                 \n",
      " gru_1 (GRU)                 (None, 3, 16)             1632      \n",
      "                                                                 \n",
      " dropout_1 (Dropout)         (None, 3, 16)             0         \n",
      "                                                                 \n",
      " gru_2 (GRU)                 (None, 3, 16)             1632      \n",
      "                                                                 \n",
      " dropout_2 (Dropout)         (None, 3, 16)             0         \n",
      "                                                                 \n",
      " gru_3 (GRU)                 (None, 16)                1632      \n",
      "                                                                 \n",
      " dropout_3 (Dropout)         (None, 16)                0         \n",
      "                                                                 \n",
      " dense (Dense)               (None, 3)                 51        \n",
      "                                                                 \n",
      "=================================================================\n",
      "Total params: 5,859\n",
      "Trainable params: 5,859\n",
      "Non-trainable params: 0\n",
      "_________________________________________________________________\n"
     ]
    }
   ],
   "source": [
    "# Model Architecture\n",
    "model = Sequential([\n",
    "    GRU(16, return_sequences=True, input_shape=(X_train.shape[1], 1), kernel_regularizer=l2(0.001)),\n",
    "    Dropout(0.2),\n",
    "    GRU(16, return_sequences=True, kernel_regularizer=l2(0.001)),\n",
    "    Dropout(0.2),\n",
    "    GRU(16, return_sequences=True),\n",
    "    Dropout(0.2),\n",
    "    GRU(16, return_sequences=False, kernel_regularizer=l2(0.001)),\n",
    "    Dropout(0.2),\n",
    "    Dense(3, activation='softmax') # 3 unit output layer (for 3 classes) / softmax activation\n",
    "])\n",
    "\n",
    "# Compile\n",
    "model.compile(optimizer=Adam(learning_rate=0.01), loss='sparse_categorical_crossentropy', metrics=['accuracy'])\n",
    "model.summary() # display summary"
   ]
  },
  {
   "cell_type": "markdown",
   "metadata": {},
   "source": [
    "<h1>Training</h1>"
   ]
  },
  {
   "cell_type": "code",
   "execution_count": 10,
   "metadata": {},
   "outputs": [
    {
     "name": "stdout",
     "output_type": "stream",
     "text": [
      "Epoch 1/60\n",
      "492/492 [==============================] - 8s 8ms/step - loss: 0.7194 - accuracy: 0.7022 - val_loss: 0.6940 - val_accuracy: 0.7300 - lr: 0.0100\n",
      "Epoch 2/60\n",
      "492/492 [==============================] - 3s 6ms/step - loss: 0.6692 - accuracy: 0.7210 - val_loss: 0.6248 - val_accuracy: 0.7391 - lr: 0.0100\n",
      "Epoch 3/60\n",
      "492/492 [==============================] - 3s 6ms/step - loss: 0.6555 - accuracy: 0.7223 - val_loss: 0.6291 - val_accuracy: 0.7231 - lr: 0.0100\n",
      "Epoch 4/60\n",
      "492/492 [==============================] - 3s 6ms/step - loss: 0.6488 - accuracy: 0.7261 - val_loss: 0.6112 - val_accuracy: 0.7414 - lr: 0.0100\n",
      "Epoch 5/60\n",
      "492/492 [==============================] - 3s 6ms/step - loss: 0.6453 - accuracy: 0.7282 - val_loss: 0.5940 - val_accuracy: 0.7460 - lr: 0.0100\n",
      "Epoch 6/60\n",
      "492/492 [==============================] - 3s 6ms/step - loss: 0.6459 - accuracy: 0.7263 - val_loss: 0.6046 - val_accuracy: 0.7483 - lr: 0.0100\n",
      "Epoch 7/60\n",
      "492/492 [==============================] - 3s 6ms/step - loss: 0.6429 - accuracy: 0.7334 - val_loss: 0.6021 - val_accuracy: 0.7346 - lr: 0.0100\n",
      "Epoch 8/60\n",
      "492/492 [==============================] - 3s 6ms/step - loss: 0.6384 - accuracy: 0.7307 - val_loss: 0.5897 - val_accuracy: 0.7632 - lr: 0.0100\n",
      "Epoch 9/60\n",
      "492/492 [==============================] - 3s 6ms/step - loss: 0.6377 - accuracy: 0.7366 - val_loss: 0.6107 - val_accuracy: 0.7368 - lr: 0.0100\n",
      "Epoch 10/60\n",
      "492/492 [==============================] - 3s 6ms/step - loss: 0.6362 - accuracy: 0.7378 - val_loss: 0.5917 - val_accuracy: 0.7529 - lr: 0.0100\n",
      "Epoch 11/60\n",
      "492/492 [==============================] - 3s 6ms/step - loss: 0.6363 - accuracy: 0.7366 - val_loss: 0.6046 - val_accuracy: 0.7357 - lr: 0.0100\n",
      "Epoch 12/60\n",
      "492/492 [==============================] - 3s 6ms/step - loss: 0.6359 - accuracy: 0.7331 - val_loss: 0.6008 - val_accuracy: 0.7426 - lr: 0.0100\n",
      "Epoch 13/60\n",
      "483/492 [============================>.] - ETA: 0s - loss: 0.6336 - accuracy: 0.7346\n",
      "Epoch 13: ReduceLROnPlateau reducing learning rate to 0.0004999999888241291.\n",
      "492/492 [==============================] - 3s 6ms/step - loss: 0.6343 - accuracy: 0.7344 - val_loss: 0.5933 - val_accuracy: 0.7449 - lr: 0.0100\n",
      "Epoch 14/60\n",
      "492/492 [==============================] - 3s 6ms/step - loss: 0.6174 - accuracy: 0.7500 - val_loss: 0.5766 - val_accuracy: 0.7517 - lr: 5.0000e-04\n",
      "Epoch 15/60\n",
      "492/492 [==============================] - 3s 6ms/step - loss: 0.6152 - accuracy: 0.7462 - val_loss: 0.5711 - val_accuracy: 0.7597 - lr: 5.0000e-04\n",
      "Epoch 16/60\n",
      "492/492 [==============================] - 3s 6ms/step - loss: 0.6132 - accuracy: 0.7507 - val_loss: 0.5691 - val_accuracy: 0.7632 - lr: 5.0000e-04\n",
      "Epoch 17/60\n",
      "492/492 [==============================] - 3s 6ms/step - loss: 0.6090 - accuracy: 0.7509 - val_loss: 0.5681 - val_accuracy: 0.7632 - lr: 5.0000e-04\n",
      "Epoch 18/60\n",
      "492/492 [==============================] - 3s 6ms/step - loss: 0.6109 - accuracy: 0.7509 - val_loss: 0.5680 - val_accuracy: 0.7574 - lr: 5.0000e-04\n",
      "Epoch 19/60\n",
      "492/492 [==============================] - 3s 6ms/step - loss: 0.6086 - accuracy: 0.7488 - val_loss: 0.5675 - val_accuracy: 0.7586 - lr: 5.0000e-04\n",
      "Epoch 20/60\n",
      "492/492 [==============================] - 3s 6ms/step - loss: 0.6095 - accuracy: 0.7498 - val_loss: 0.5642 - val_accuracy: 0.7666 - lr: 5.0000e-04\n",
      "Epoch 21/60\n",
      "492/492 [==============================] - 3s 6ms/step - loss: 0.6054 - accuracy: 0.7515 - val_loss: 0.5615 - val_accuracy: 0.7666 - lr: 5.0000e-04\n",
      "Epoch 22/60\n",
      "492/492 [==============================] - 3s 6ms/step - loss: 0.6037 - accuracy: 0.7518 - val_loss: 0.5622 - val_accuracy: 0.7677 - lr: 5.0000e-04\n",
      "Epoch 23/60\n",
      "492/492 [==============================] - 3s 6ms/step - loss: 0.6057 - accuracy: 0.7522 - val_loss: 0.5640 - val_accuracy: 0.7654 - lr: 5.0000e-04\n",
      "Epoch 24/60\n",
      "492/492 [==============================] - 3s 6ms/step - loss: 0.6049 - accuracy: 0.7539 - val_loss: 0.5652 - val_accuracy: 0.7632 - lr: 5.0000e-04\n",
      "Epoch 25/60\n",
      "492/492 [==============================] - 3s 6ms/step - loss: 0.6049 - accuracy: 0.7528 - val_loss: 0.5626 - val_accuracy: 0.7700 - lr: 5.0000e-04\n",
      "Epoch 26/60\n",
      "492/492 [==============================] - 3s 6ms/step - loss: 0.6027 - accuracy: 0.7528 - val_loss: 0.5607 - val_accuracy: 0.7700 - lr: 5.0000e-04\n",
      "Epoch 27/60\n",
      "492/492 [==============================] - 3s 6ms/step - loss: 0.6019 - accuracy: 0.7528 - val_loss: 0.5583 - val_accuracy: 0.7700 - lr: 5.0000e-04\n",
      "Epoch 28/60\n",
      "492/492 [==============================] - 3s 6ms/step - loss: 0.6018 - accuracy: 0.7525 - val_loss: 0.5622 - val_accuracy: 0.7666 - lr: 5.0000e-04\n",
      "Epoch 29/60\n",
      "492/492 [==============================] - 3s 6ms/step - loss: 0.6020 - accuracy: 0.7558 - val_loss: 0.5623 - val_accuracy: 0.7666 - lr: 5.0000e-04\n",
      "Epoch 30/60\n",
      "492/492 [==============================] - 3s 6ms/step - loss: 0.6038 - accuracy: 0.7505 - val_loss: 0.5617 - val_accuracy: 0.7723 - lr: 5.0000e-04\n",
      "Epoch 31/60\n",
      "492/492 [==============================] - 3s 6ms/step - loss: 0.6035 - accuracy: 0.7514 - val_loss: 0.5566 - val_accuracy: 0.7746 - lr: 5.0000e-04\n",
      "Epoch 32/60\n",
      "492/492 [==============================] - 3s 6ms/step - loss: 0.6016 - accuracy: 0.7553 - val_loss: 0.5569 - val_accuracy: 0.7735 - lr: 5.0000e-04\n",
      "Epoch 33/60\n",
      "492/492 [==============================] - 3s 6ms/step - loss: 0.6010 - accuracy: 0.7561 - val_loss: 0.5606 - val_accuracy: 0.7712 - lr: 5.0000e-04\n",
      "Epoch 34/60\n",
      "492/492 [==============================] - 3s 6ms/step - loss: 0.5994 - accuracy: 0.7540 - val_loss: 0.5557 - val_accuracy: 0.7780 - lr: 5.0000e-04\n",
      "Epoch 35/60\n",
      "492/492 [==============================] - 3s 6ms/step - loss: 0.6003 - accuracy: 0.7550 - val_loss: 0.5573 - val_accuracy: 0.7735 - lr: 5.0000e-04\n",
      "Epoch 36/60\n",
      "492/492 [==============================] - 3s 6ms/step - loss: 0.6002 - accuracy: 0.7544 - val_loss: 0.5581 - val_accuracy: 0.7700 - lr: 5.0000e-04\n",
      "Epoch 37/60\n",
      "492/492 [==============================] - 3s 6ms/step - loss: 0.5993 - accuracy: 0.7544 - val_loss: 0.5594 - val_accuracy: 0.7677 - lr: 5.0000e-04\n",
      "Epoch 38/60\n",
      "492/492 [==============================] - 3s 6ms/step - loss: 0.5985 - accuracy: 0.7532 - val_loss: 0.5559 - val_accuracy: 0.7723 - lr: 5.0000e-04\n",
      "Epoch 39/60\n",
      "492/492 [==============================] - ETA: 0s - loss: 0.5989 - accuracy: 0.7540\n",
      "Epoch 39: ReduceLROnPlateau reducing learning rate to 2.4999998277053238e-05.\n",
      "492/492 [==============================] - 3s 6ms/step - loss: 0.5989 - accuracy: 0.7540 - val_loss: 0.5557 - val_accuracy: 0.7746 - lr: 5.0000e-04\n",
      "Epoch 40/60\n",
      "492/492 [==============================] - 3s 6ms/step - loss: 0.5951 - accuracy: 0.7565 - val_loss: 0.5555 - val_accuracy: 0.7746 - lr: 2.5000e-05\n",
      "Epoch 41/60\n",
      "492/492 [==============================] - 3s 6ms/step - loss: 0.5998 - accuracy: 0.7544 - val_loss: 0.5552 - val_accuracy: 0.7735 - lr: 2.5000e-05\n",
      "Epoch 42/60\n",
      "492/492 [==============================] - 3s 6ms/step - loss: 0.5963 - accuracy: 0.7548 - val_loss: 0.5547 - val_accuracy: 0.7723 - lr: 2.5000e-05\n",
      "Epoch 43/60\n",
      "492/492 [==============================] - 3s 6ms/step - loss: 0.5986 - accuracy: 0.7534 - val_loss: 0.5549 - val_accuracy: 0.7723 - lr: 2.5000e-05\n",
      "Epoch 44/60\n",
      "492/492 [==============================] - 3s 6ms/step - loss: 0.5973 - accuracy: 0.7553 - val_loss: 0.5548 - val_accuracy: 0.7723 - lr: 2.5000e-05\n",
      "Epoch 45/60\n",
      "492/492 [==============================] - 3s 6ms/step - loss: 0.5959 - accuracy: 0.7532 - val_loss: 0.5555 - val_accuracy: 0.7746 - lr: 2.5000e-05\n",
      "Epoch 46/60\n",
      "492/492 [==============================] - 3s 6ms/step - loss: 0.5978 - accuracy: 0.7572 - val_loss: 0.5547 - val_accuracy: 0.7723 - lr: 2.5000e-05\n",
      "Epoch 47/60\n",
      "492/492 [==============================] - ETA: 0s - loss: 0.5962 - accuracy: 0.7561\n",
      "Epoch 47: ReduceLROnPlateau reducing learning rate to 1.249999877472874e-06.\n",
      "492/492 [==============================] - 3s 6ms/step - loss: 0.5962 - accuracy: 0.7561 - val_loss: 0.5548 - val_accuracy: 0.7723 - lr: 2.5000e-05\n",
      "Epoch 48/60\n",
      "492/492 [==============================] - 3s 6ms/step - loss: 0.5950 - accuracy: 0.7566 - val_loss: 0.5548 - val_accuracy: 0.7723 - lr: 1.2500e-06\n",
      "Epoch 49/60\n",
      "492/492 [==============================] - 3s 6ms/step - loss: 0.5969 - accuracy: 0.7576 - val_loss: 0.5548 - val_accuracy: 0.7723 - lr: 1.2500e-06\n",
      "Epoch 50/60\n",
      "492/492 [==============================] - 3s 6ms/step - loss: 0.5959 - accuracy: 0.7568 - val_loss: 0.5548 - val_accuracy: 0.7735 - lr: 1.2500e-06\n",
      "Epoch 51/60\n",
      "492/492 [==============================] - 3s 6ms/step - loss: 0.5952 - accuracy: 0.7558 - val_loss: 0.5548 - val_accuracy: 0.7735 - lr: 1.2500e-06\n",
      "Epoch 52/60\n",
      "487/492 [============================>.] - ETA: 0s - loss: 0.5962 - accuracy: 0.7555\n",
      "Epoch 52: ReduceLROnPlateau reducing learning rate to 1e-06.\n",
      "492/492 [==============================] - 3s 6ms/step - loss: 0.5960 - accuracy: 0.7557 - val_loss: 0.5548 - val_accuracy: 0.7735 - lr: 1.2500e-06\n",
      "Epoch 53/60\n",
      "492/492 [==============================] - 3s 6ms/step - loss: 0.5948 - accuracy: 0.7577 - val_loss: 0.5548 - val_accuracy: 0.7735 - lr: 1.0000e-06\n",
      "Epoch 54/60\n",
      "492/492 [==============================] - 3s 6ms/step - loss: 0.5973 - accuracy: 0.7561 - val_loss: 0.5548 - val_accuracy: 0.7735 - lr: 1.0000e-06\n",
      "Epoch 55/60\n",
      "492/492 [==============================] - 3s 6ms/step - loss: 0.5986 - accuracy: 0.7544 - val_loss: 0.5548 - val_accuracy: 0.7735 - lr: 1.0000e-06\n",
      "Epoch 56/60\n",
      "492/492 [==============================] - 3s 6ms/step - loss: 0.5950 - accuracy: 0.7571 - val_loss: 0.5549 - val_accuracy: 0.7746 - lr: 1.0000e-06\n",
      "Epoch 57/60\n",
      "492/492 [==============================] - 3s 6ms/step - loss: 0.5965 - accuracy: 0.7567 - val_loss: 0.5549 - val_accuracy: 0.7746 - lr: 1.0000e-06\n",
      "Epoch 58/60\n",
      "492/492 [==============================] - 3s 6ms/step - loss: 0.5977 - accuracy: 0.7540 - val_loss: 0.5549 - val_accuracy: 0.7746 - lr: 1.0000e-06\n",
      "Epoch 59/60\n",
      "492/492 [==============================] - 3s 6ms/step - loss: 0.5967 - accuracy: 0.7570 - val_loss: 0.5549 - val_accuracy: 0.7746 - lr: 1.0000e-06\n",
      "Epoch 60/60\n",
      "492/492 [==============================] - 3s 6ms/step - loss: 0.5953 - accuracy: 0.7562 - val_loss: 0.5549 - val_accuracy: 0.7746 - lr: 1.0000e-06\n"
     ]
    }
   ],
   "source": [
    "# Epochs/Batch size (adjust as needed)\n",
    "epochs = 60\n",
    "batch_size = 32\n",
    "\n",
    "# Train model\n",
    "history = model.fit(\n",
    "    X_train, y_train,\n",
    "    validation_data=(X_val, y_val),\n",
    "    epochs=epochs,\n",
    "    batch_size=batch_size,\n",
    "    verbose=1,\n",
    "    callbacks=[lr_adjuster]\n",
    ")"
   ]
  },
  {
   "cell_type": "markdown",
   "metadata": {},
   "source": [
    "<h1>Save Model</h1>"
   ]
  },
  {
   "cell_type": "code",
   "execution_count": 14,
   "metadata": {},
   "outputs": [
    {
     "name": "stdout",
     "output_type": "stream",
     "text": [
      "Model saved to: saved_model\\project2_part1_model.h5\n"
     ]
    }
   ],
   "source": [
    "# Uncomment the below code to save the current model (if happy)\n",
    "# save_model(model)"
   ]
  },
  {
   "cell_type": "markdown",
   "metadata": {},
   "source": [
    "<h1>Plot Training and Valid Performance</h1>"
   ]
  },
  {
   "cell_type": "code",
   "execution_count": 11,
   "metadata": {},
   "outputs": [
    {
     "data": {
      "image/png": "[encoded data removed]",
      "text/plain": [
       "<Figure size 640x480 with 1 Axes>"
      ]
     },
     "metadata": {},
     "output_type": "display_data"
    },
    {
     "data": {
      "image/png": "[encoded data removed]",
      "text/plain": [
       "<Figure size 640x480 with 1 Axes>"
      ]
     },
     "metadata": {},
     "output_type": "display_data"
    }
   ],
   "source": [
    "# Training/Validation Accuracy\n",
    "plt.plot(history.history['accuracy'])\n",
    "plt.plot(history.history['val_accuracy'])\n",
    "plt.title('Model Accuracy')\n",
    "plt.ylabel('Accuracy')\n",
    "plt.xlabel('Epoch')\n",
    "plt.legend(['Train', 'Validation'], loc='upper left')\n",
    "plt.show()\n",
    "\n",
    "# Training/Validation Loss\n",
    "plt.plot(history.history['loss'])\n",
    "plt.plot(history.history['val_loss'])\n",
    "plt.title('Loss Over Epochs')\n",
    "plt.ylabel('Loss')\n",
    "plt.xlabel('Epoch')\n",
    "plt.legend(['Train', 'Validation'], loc='upper left')\n",
    "plt.show()"
   ]
  },
  {
   "cell_type": "markdown",
   "metadata": {},
   "source": [
    "<h1>Report</h1>"
   ]
  },
  {
   "cell_type": "markdown",
   "metadata": {},
   "source": [
    "<h2>Data Preprocessing and Training Techniques Used</h2>\n",
    "<ul>\n",
    "    <li>Normalization</li>\n",
    "    <li>Dropout</li>\n",
    "    <li>Regularization</li>\n",
    "    <li>Train-Validation Splitting</li>\n",
    "    <li>Shuffling</li>\n",
    "</ul>\n",
    "<h2>Below are the Training and Validation Results in Figures</h2>\n",
    "<img src=\"Images/Part 1 Model Accuracy.png\">\n",
    "<img src=\"Images/Part 1 Loss Over Epochs.png\">"
   ]
  },
  {
   "cell_type": "code",
   "execution_count": null,
   "metadata": {},
   "outputs": [],
   "source": []
  }
 ],
 "metadata": {
  "kernelspec": {
   "display_name": "Python 3 (ipykernel)",
   "language": "python",
   "name": "python3"
  },
  "language_info": {
   "codemirror_mode": {
    "name": "ipython",
    "version": 3
   },
   "file_extension": ".py",
   "mimetype": "text/x-python",
   "name": "python",
   "nbconvert_exporter": "python",
   "pygments_lexer": "ipython3",
   "version": "3.9.20"
  }
 },
 "nbformat": 4,
 "nbformat_minor": 4
}
